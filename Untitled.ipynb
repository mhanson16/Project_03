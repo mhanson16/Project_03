{
 "cells": [
  {
   "cell_type": "code",
   "execution_count": 1,
   "id": "f7f67f87",
   "metadata": {},
   "outputs": [],
   "source": [
    "import pandas as pd\n",
    "df = pd.read_csv (r'data_copy.csv')\n",
    "df.to_json (r'data_copy.json')"
   ]
  },
  {
   "cell_type": "code",
   "execution_count": 2,
   "id": "0ea3a8d3",
   "metadata": {},
   "outputs": [],
   "source": [
    "df2 = pd.read_csv (r'data.csv')\n",
    "df2.to_json (r'data.json')"
   ]
  },
  {
   "cell_type": "code",
   "execution_count": null,
   "id": "de750437",
   "metadata": {},
   "outputs": [],
   "source": []
  }
 ],
 "metadata": {
  "kernelspec": {
   "display_name": "Python [conda env:PythonData] *",
   "language": "python",
   "name": "conda-env-PythonData-py"
  },
  "language_info": {
   "codemirror_mode": {
    "name": "ipython",
    "version": 3
   },
   "file_extension": ".py",
   "mimetype": "text/x-python",
   "name": "python",
   "nbconvert_exporter": "python",
   "pygments_lexer": "ipython3",
   "version": "3.7.15"
  }
 },
 "nbformat": 4,
 "nbformat_minor": 5
}
