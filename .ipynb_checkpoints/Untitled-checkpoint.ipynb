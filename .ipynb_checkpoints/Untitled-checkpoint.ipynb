{
 "cells": [
  {
   "cell_type": "code",
   "execution_count": 12,
   "id": "22a50de6",
   "metadata": {},
   "outputs": [],
   "source": [
    "# Import dependencies\n",
    "from pymongo import MongoClient\n",
    "from pprint import pprint"
   ]
  },
  {
   "cell_type": "code",
   "execution_count": 13,
   "id": "ace84aa5",
   "metadata": {},
   "outputs": [],
   "source": [
    "# Create an instance of MongoClient\n",
    "mongo = MongoClient(port=27017)"
   ]
  },
  {
   "cell_type": "code",
   "execution_count": 14,
   "id": "b959f3c1",
   "metadata": {},
   "outputs": [
    {
     "name": "stdout",
     "output_type": "stream",
     "text": [
      "['admin', 'classDB', 'config', 'emissions', 'epa', 'fruits_db', 'local', 'met', 'petsitly_marketing', 'uk_food']\n"
     ]
    }
   ],
   "source": [
    "# confirm that the \"emissions\" database is in MongoDB\n",
    "print(mongo.list_database_names())"
   ]
  },
  {
   "cell_type": "code",
   "execution_count": 15,
   "id": "f8073530",
   "metadata": {},
   "outputs": [],
   "source": [
    "# assign the database to a variable name\n",
    "db = mongo['emissions']"
   ]
  },
  {
   "cell_type": "code",
   "execution_count": 16,
   "id": "73f8bfcc",
   "metadata": {},
   "outputs": [
    {
     "name": "stdout",
     "output_type": "stream",
     "text": [
      "['countries']\n"
     ]
    }
   ],
   "source": [
    "# review the collections in our new database\n",
    "print(db.list_collection_names())"
   ]
  },
  {
   "cell_type": "code",
   "execution_count": 17,
   "id": "cdfc4cc9",
   "metadata": {},
   "outputs": [],
   "source": [
    "# assign each collection to a variable\n",
    "countries = db['countries']"
   ]
  },
  {
   "cell_type": "code",
   "execution_count": 8,
   "id": "07c4f1b1",
   "metadata": {},
   "outputs": [
    {
     "data": {
      "text/plain": [
       "<pymongo.results.DeleteResult at 0x1c1c13ba188>"
      ]
     },
     "execution_count": 8,
     "metadata": {},
     "output_type": "execute_result"
    }
   ],
   "source": [
    "# Create a query that finds the countries who have emissions that were before 1945\n",
    "query = {'Year': {'$lt': '1945'}}\n",
    "\n",
    "# delete emissions before 1945\n",
    "countries.delete_many(query)"
   ]
  },
  {
   "cell_type": "code",
   "execution_count": 25,
   "id": "0e6d1b2b",
   "metadata": {},
   "outputs": [],
   "source": [
    "#check that the rows were deleted\n",
    "query = {'Year': {'$lt': '1945'}}\n",
    "results = countries.find(query)\n",
    "for result in results:\n",
    "    print(result)"
   ]
  },
  {
   "cell_type": "code",
   "execution_count": 26,
   "id": "37799d0a",
   "metadata": {},
   "outputs": [
    {
     "name": "stdout",
     "output_type": "stream",
     "text": [
      "{'Cement': '',\n",
      " 'Coal': '',\n",
      " 'Country': 'French Equatorial Africa',\n",
      " 'Flaring': '',\n",
      " 'Gas': '',\n",
      " 'ISO': '',\n",
      " 'Oil': '',\n",
      " 'Other': '',\n",
      " 'Total': '',\n",
      " 'Year': '1945',\n",
      " '_id': ObjectId('64273cf7cfb518dff1f26bac')}\n",
      "{'Cement': '',\n",
      " 'Coal': '',\n",
      " 'Country': 'French Equatorial Africa',\n",
      " 'Flaring': '',\n",
      " 'Gas': '',\n",
      " 'ISO': '',\n",
      " 'Oil': '',\n",
      " 'Other': '',\n",
      " 'Total': '',\n",
      " 'Year': '1946',\n",
      " '_id': ObjectId('64273cf7cfb518dff1f26bad')}\n"
     ]
    }
   ],
   "source": [
    "# Create a query that finds the country French Equatorial Africa\n",
    "query = {'Country': 'French Equatorial Africa'}\n",
    "\n",
    "# Capture the results to a variable\n",
    "results = countries.find(query)\n",
    "\n",
    "# Pretty print the first two results\n",
    "for i in range(2):\n",
    "    pprint(results[i])"
   ]
  },
  {
   "cell_type": "code",
   "execution_count": 21,
   "id": "1437db6c",
   "metadata": {},
   "outputs": [
    {
     "ename": "SyntaxError",
     "evalue": "invalid syntax (398570539.py, line 2)",
     "output_type": "error",
     "traceback": [
      "\u001b[1;36m  File \u001b[1;32m\"C:\\Users\\LTabl\\AppData\\Local\\Temp\\ipykernel_15220\\398570539.py\"\u001b[1;36m, line \u001b[1;32m2\u001b[0m\n\u001b[1;33m    db.countries.updateMany({}, {$rename: {\"ISO 3166-1 alpha-3\":\"ISO\"}})\u001b[0m\n\u001b[1;37m                                 ^\u001b[0m\n\u001b[1;31mSyntaxError\u001b[0m\u001b[1;31m:\u001b[0m invalid syntax\n"
     ]
    }
   ],
   "source": [
    "#update ISO column\n",
    "db.countries.updateMany({\"Country\": \"French Equatorial Africa\"}, {$set: {\"ISO\": \"FEA\"}})"
   ]
  },
  {
   "cell_type": "code",
   "execution_count": null,
   "id": "47168608",
   "metadata": {},
   "outputs": [],
   "source": []
  }
 ],
 "metadata": {
  "kernelspec": {
   "display_name": "PythonData",
   "language": "python",
   "name": "pythondata"
  },
  "language_info": {
   "codemirror_mode": {
    "name": "ipython",
    "version": 3
   },
   "file_extension": ".py",
   "mimetype": "text/x-python",
   "name": "python",
   "nbconvert_exporter": "python",
   "pygments_lexer": "ipython3",
   "version": "3.7.15"
  }
 },
 "nbformat": 4,
 "nbformat_minor": 5
}
